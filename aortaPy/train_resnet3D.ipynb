{
 "cells": [
  {
   "cell_type": "code",
   "execution_count": 1,
   "metadata": {},
   "outputs": [],
   "source": [
    "import numpy as np\n",
    "from resnet3d import Resnet3DBuilder\n",
    "import DataLoader\n",
    "# pseudo volumetric data"
   ]
  },
  {
   "cell_type": "code",
   "execution_count": 2,
   "metadata": {},
   "outputs": [],
   "source": [
    "import tensorflow as tf"
   ]
  },
  {
   "cell_type": "code",
   "execution_count": 3,
   "metadata": {},
   "outputs": [
    {
     "name": "stdout",
     "output_type": "stream",
     "text": [
      "/Users/nikki/Documents/xyu_iterms/aorta_classification/aortaData/20191108_41对/train\n",
      "/Users/nikki/Documents/xyu_iterms/aorta_classification/aortaData/20191108_41对/test\n"
     ]
    }
   ],
   "source": [
    "train_dir = \"/Users/nikki/Documents/xyu_iterms/aorta_classification/aortaData/20191108_41对/train\"\n",
    "#val_dir = \"/Users/nikki/Documents/xyu_iterms/aorta_classification/aortaData/20191108_41对/val\"\n",
    "test_dir = \"/Users/nikki/Documents/xyu_iterms/aorta_classification/aortaData/20191108_41对/test\"\n",
    "\n",
    "dataset_train = DataLoader.Dataset()\n",
    "dataset_test = DataLoader.Dataset()\n",
    "\n",
    "dataset_train.load_dataset(train_dir)\n",
    "dataset_test.load_dataset(test_dir)"
   ]
  },
  {
   "cell_type": "code",
   "execution_count": 4,
   "metadata": {},
   "outputs": [],
   "source": [
    "#im=dataset_train.load_case(dataset_train.case_id[0])"
   ]
  },
  {
   "cell_type": "code",
   "execution_count": 5,
   "metadata": {},
   "outputs": [],
   "source": [
    "#rint(im.shape)"
   ]
  },
  {
   "cell_type": "code",
   "execution_count": 9,
   "metadata": {},
   "outputs": [],
   "source": [
    "def t_gen():\n",
    "    #assert isinstance(dataset, Dataset), \"dadaset is not belong to Dataset class\"\n",
    "    for i in dataset_train.case_id:\n",
    "        case, class_id = dataset_train.load_case(i)#augmentation=augment\n",
    "        yield case, class_id\n",
    "\n",
    "def v_gen():\n",
    "    #assert isinstance(dataset, Dataset), \"dadaset is not belong to Dataset class\"\n",
    "    for i in dataset_test.case_id:\n",
    "        case, class_id = dataset_test.load_case(i)\n",
    "        yield case, class_id"
   ]
  },
  {
   "cell_type": "code",
   "execution_count": 10,
   "metadata": {},
   "outputs": [],
   "source": [
    "t_d = tf.data.Dataset.from_generator(\n",
    "    t_gen, (tf.float32, tf.int8), (tf.TensorShape([512, 512, 14, 1]), tf.TensorShape([])))\n",
    "\n",
    "v_d = tf.data.Dataset.from_generator(\n",
    "    v_gen, (tf.float32, tf.int8), (tf.TensorShape([512, 512, 14, 1]),tf.TensorShape([])))\n",
    "\n",
    "t_d = t_d.shuffle(buffer_size=len(dataset_train.case_id))\n",
    "t_d = t_d.batch(1)\n",
    "\n",
    "v_d = v_d.shuffle(buffer_size=len(dataset_test.case_id))\n",
    "v_d = v_d.batch(1)"
   ]
  },
  {
   "cell_type": "code",
   "execution_count": null,
   "metadata": {},
   "outputs": [
    {
     "name": "stdout",
     "output_type": "stream",
     "text": [
      "Epoch 1/5\n"
     ]
    }
   ],
   "source": [
    "# train\n",
    "model = Resnet3DBuilder.build_resnet_18((512, 512, 14, 1), 2)\n",
    "model.compile(loss=\"categorical_crossentropy\", optimizer=\"sgd\", metrics=['accuracy'])\n",
    "model.fit(t_d, epochs=5 )\n",
    "model.summary()\n",
    "\n",
    "model.save_weights('/Users/nikki/Documents/xyu_iterms/aorta_classification/aortaPy/weights/resnet3D')"
   ]
  },
  {
   "cell_type": "code",
   "execution_count": null,
   "metadata": {},
   "outputs": [],
   "source": []
  }
 ],
 "metadata": {
  "kernelspec": {
   "display_name": "Python 3",
   "language": "python",
   "name": "python3"
  },
  "language_info": {
   "codemirror_mode": {
    "name": "ipython",
    "version": 3
   },
   "file_extension": ".py",
   "mimetype": "text/x-python",
   "name": "python",
   "nbconvert_exporter": "python",
   "pygments_lexer": "ipython3",
   "version": "3.7.3"
  }
 },
 "nbformat": 4,
 "nbformat_minor": 2
}
